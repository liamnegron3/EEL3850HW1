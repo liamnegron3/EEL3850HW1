{
 "cells": [
  {
   "cell_type": "markdown",
   "metadata": {},
   "source": [
    "# Homework 1 Part 2\n",
    "\n",
    "\n",
    "This is an individual assignment."
   ]
  },
  {
   "cell_type": "markdown",
   "metadata": {},
   "source": [
    "## Description\n",
    "\n",
    "Create or edit this Jupyter Notebook to answer the questions below. Use simulations to answer these questions. An analytical solution can be useful to check if your simulation is correct but analytical solutions alone will not be accepted as a solution to a problem."
   ]
  },
  {
   "cell_type": "markdown",
   "metadata": {},
   "source": [
    "#### Problem 9\n",
    "\n",
    "Consider repeatedly rolling a fair 4-sided die.\n",
    "\n",
    "1. Create a simulation to compute the probability that the top face will be 4 at least once on four rolls of the die?\n",
    "2. Create a simulation to compute the probability that the top face will be 4 at least once on 20 rolls of the die?\n",
    "3. Create a simulation to compute how many rolls of the die would you have to do to be 90% confident that you would see at least one 4?\n",
    "4. Using the formula you have computed in problem 2 part 4, make a Python function that takes in the target value $p$ and outputs the required number of rolls of an integer. \n",
    "    1. Find the values for $p=0.95$ and $p=0.99$. \n",
    "    2. Use your simulation to verify that the number of rolls you specified is sufficient to achieve $p\\geq 0.95$."
   ]
  },
  {
   "cell_type": "markdown",
   "metadata": {},
   "source": [
    "1.The probability that the top face will be 4 at least once on four rolls of the die is 0.683"
   ]
  },
  {
   "cell_type": "code",
   "execution_count": 1,
   "metadata": {
    "scrolled": true
   },
   "outputs": [
    {
     "name": "stdout",
     "output_type": "stream",
     "text": [
      "Probability of getting at one roll as 4 when rolling a fair 4-sided die four times =  0.68306\n"
     ]
    }
   ],
   "source": [
    "import random\n",
    "import numpy as np\n",
    "import numpy.random as npr\n",
    "\n",
    "#Problem 9 #1\n",
    "def one_four(num_sims, num_rolls):\n",
    "    #npr is numpy random function 1,5 gives a die with 4 faces\n",
    "    #size(num_rolls, num_sims) num_rolls indicates how many dice rolls. num_sims represents the number of simulatons\n",
    "    dice = npr.randint(1,5, size=(num_rolls, num_sims)) \n",
    "    \n",
    "    #axis 0 means for each column we sum all of the rows\n",
    "    #axis 1 would mean for each row sum all of the columns \n",
    "    np.sum(dice==4, axis=0) \n",
    "\n",
    "    #check how many times a 4 was rolled\n",
    "    event = np.sum(np.sum(dice==4, axis=0) >=1)\n",
    "\n",
    "    #compute the probability\n",
    "    event/num_sims\n",
    "    return event/num_sims\n",
    "\n",
    "#num_rolls = 4 to sim rolling the dice four times\n",
    "#num_sims = 100_000 for the number of times to run\n",
    "num_sims = 100_000\n",
    "num_rolls = 4\n",
    "print(\"Probability of getting at one roll as 4 when rolling a fair 4-sided die four times = \", one_four(num_sims,num_rolls))"
   ]
  },
  {
   "cell_type": "markdown",
   "metadata": {},
   "source": [
    "2.The probability that the top face will be 4 at least once on 20 rolls of the die is 0.997"
   ]
  },
  {
   "cell_type": "code",
   "execution_count": 2,
   "metadata": {},
   "outputs": [
    {
     "name": "stdout",
     "output_type": "stream",
     "text": [
      "Probability of getting at one roll as 4 when rolling a fair 4-sided die 20 times =  0.99665\n"
     ]
    }
   ],
   "source": [
    "#Problem 9 #2\n",
    "#change the number of sims to twenty and input to the function\n",
    "num_rolls = 20\n",
    "print(\"Probability of getting at one roll as 4 when rolling a fair 4-sided die 20 times = \", one_four(num_sims, num_rolls))"
   ]
  },
  {
   "cell_type": "markdown",
   "metadata": {},
   "source": [
    "3. The number of rolls needed to guarantee a probability of at least 90% is 9 rolls."
   ]
  },
  {
   "cell_type": "code",
   "execution_count": 3,
   "metadata": {},
   "outputs": [
    {
     "name": "stdout",
     "output_type": "stream",
     "text": [
      "9\n"
     ]
    }
   ],
   "source": [
    "#Problem 9 #3\n",
    "num_rolls = 0\n",
    "Probability = 0.0\n",
    "\n",
    "while Probability < 0.9:\n",
    "    #compute the probability for the current number of rolls\n",
    "    Probability = one_four(num_sims,num_rolls)\n",
    "    \n",
    "    #check if the probability is at least 90% if it is break out of the loop\n",
    "    if Probability >= 0.9:\n",
    "        break\n",
    "    # if the probability is less than 90% continue to increase the rolls\n",
    "    num_rolls +=1\n",
    "    \n",
    "print(num_rolls)"
   ]
  },
  {
   "cell_type": "markdown",
   "metadata": {},
   "source": [
    "4A. The number of rolls needed to guarantee a probability of at least 95% is 11 rolls.  \n",
    "The number of rolls needed to guarantee a probability of at least 99% is 17 rolls."
   ]
  },
  {
   "cell_type": "code",
   "execution_count": 4,
   "metadata": {},
   "outputs": [
    {
     "name": "stdout",
     "output_type": "stream",
     "text": [
      "11.0\n",
      "17.0\n"
     ]
    }
   ],
   "source": [
    "#4A\n",
    "def rolls_req(p):\n",
    "    #formula found from problem 2\n",
    "    num_rolls = np.ceil((np.log(1-p))/(np.log(0.75)))\n",
    "    return num_rolls\n",
    "\n",
    "p = 0.95\n",
    "print(rolls_req(p))\n",
    "\n",
    "p = 0.99\n",
    "print(rolls_req(p))"
   ]
  },
  {
   "cell_type": "markdown",
   "metadata": {},
   "source": [
    "Using the rolls_req() function 11 rolls is returned. This number of rolls yields greater than 95% probability."
   ]
  },
  {
   "cell_type": "code",
   "execution_count": 5,
   "metadata": {},
   "outputs": [
    {
     "name": "stdout",
     "output_type": "stream",
     "text": [
      "0.95763\n"
     ]
    }
   ],
   "source": [
    "#4B\n",
    "p = 0.95\n",
    "print(one_four(num_sims,int(rolls_req(p))))"
   ]
  },
  {
   "cell_type": "markdown",
   "metadata": {},
   "source": [
    "## Problem 10\n",
    "\n",
    "Create a simulation function where you will roll a fair 6-sided die twice. Use simulation to find out the probability of getting a 4,5, or 6 on the first toss and a 1,2,3 on the second toss. "
   ]
  },
  {
   "cell_type": "markdown",
   "metadata": {},
   "source": [
    "The probability of getting a 4,5, or 6 on the first toss and a 1,2,3 on the second toss is 1/4 = 0.25"
   ]
  },
  {
   "cell_type": "code",
   "execution_count": 6,
   "metadata": {},
   "outputs": [
    {
     "name": "stdout",
     "output_type": "stream",
     "text": [
      "The probability of getting a 4,5, or 6 on the first toss and a 1,2,3 on the second toss =  0.24872\n"
     ]
    }
   ],
   "source": [
    "def six_side_twice(num_sims):\n",
    "    #npr is numpy random function 1,5 gives a die with 4 faces\n",
    "    #size(2, num_sims) 2 rows means 2 dice rolls. columns represents the number of simulatons\n",
    "    return npr.randint(1,7, size=(2, num_sims))\n",
    "\n",
    "#create an list to contain the results of two dice rolls\n",
    "dice = six_side_twice(num_sims)\n",
    "\n",
    "#find the probabiltiy of getting a 4,5,6 on first toss and a 1,2,3 on the second toss\n",
    "i = 0\n",
    "event_counter = 0\n",
    "for i in range(num_sims):\n",
    "    if (dice[0,i] >=4 and dice[1,i] <=3):\n",
    "        event_counter += 1\n",
    "    \n",
    "print(\"The probability of getting a 4,5, or 6 on the first toss and a 1,2,3 on the second toss = \",event_counter/num_sims)\n",
    "    "
   ]
  },
  {
   "cell_type": "markdown",
   "metadata": {},
   "source": [
    "## Problem 11\n",
    "\n",
    "Suppose that you have a bag with 3 coins. One of them is a fair coin, but the others are biased trick coins. When flipped, the three coins come up heads with probability $\\frac{1}{2}$, $\\frac{1}{3}$, and $\\frac{1}{4}$, respectively.\n",
    "\n",
    "Consider the experiment where you pick one coin at random and flip it three times. Let $H_i$ be the event that the coin comes up heads on flip $i$. What is the probability of the outcome $H_1\\cap H_2\\cap \\overline{H_3}$?\n",
    "\n",
    "With small modification in your code, find out the probability of the outcome $H_1\\cap \\overline{H_2} \\cap \\overline{H_3}$.\n",
    "\n",
    "Use simulation to find out the probability."
   ]
  },
  {
   "cell_type": "markdown",
   "metadata": {},
   "source": [
    " The probability of the outcome $H_1\\cap H_2\\cap \\overline{H_3}$ is 0.082"
   ]
  },
  {
   "cell_type": "code",
   "execution_count": 7,
   "metadata": {},
   "outputs": [
    {
     "name": "stdout",
     "output_type": "stream",
     "text": [
      "The probability of the outcome Heads, Heads, Tails =  0.08187\n"
     ]
    }
   ],
   "source": [
    "def three_flip(num_sims):\n",
    "    coins = ['fair','2-tails','3-tails']\n",
    "    head_count = 0\n",
    "    event_count = 0.0\n",
    "    for sim in range(num_sims):\n",
    "        \n",
    "        #Choose one of the 3 coins at random\n",
    "        coin = random.choice(coins)\n",
    "        if coin == 'fair':\n",
    "            # the probability of heads is 1/2\n",
    "            S = ['H','T']\n",
    "        elif coin == '2-tails':\n",
    "            #The probability of heads is 1/3\n",
    "                S = ['H','T','T']\n",
    "        else:\n",
    "            #The probability of heads is 1/4\n",
    "            S = ['H','T','T','T']\n",
    "            \n",
    "        #Flip the chosen coin three times and assign the result to values\n",
    "        values = random.choices(S, k=3)\n",
    "        \n",
    "        #Check if the desired condition is met\n",
    "        if (values[0] == 'H' and values[1] == 'H' and values[2] == 'T'):\n",
    "                event_count +=1\n",
    "    return event_count\n",
    "\n",
    "print(\"The probability of the outcome Heads, Heads, Tails = \",three_flip(num_sims)/num_sims)"
   ]
  },
  {
   "cell_type": "markdown",
   "metadata": {},
   "source": [
    "The probability of the outcome $H_1\\cap \\overline{H_2} \\cap \\overline{H_3}$ is 0.138"
   ]
  },
  {
   "cell_type": "code",
   "execution_count": 8,
   "metadata": {},
   "outputs": [
    {
     "name": "stdout",
     "output_type": "stream",
     "text": [
      "The probability of the outcome Heads, Tails, Tails =  0.13733\n"
     ]
    }
   ],
   "source": [
    "def three_flip_two(num_sims):\n",
    "    coins = ['fair','2-tails','3-tails']\n",
    "    head_count = 0\n",
    "    event_count = 0.0\n",
    "    for sim in range(num_sims):\n",
    "        \n",
    "        #Choose one of the 3 coins at random\n",
    "        coin = random.choice(coins)\n",
    "        if coin == 'fair':\n",
    "            #The probability of heads is 1/2\n",
    "            S = ['H','T']\n",
    "        elif coin == '2-tails':\n",
    "            #The probability of heads is 1/3\n",
    "                S = ['H','T','T']\n",
    "        else:\n",
    "            #The probability of heads is 1/4\n",
    "            S = ['H','T','T','T']\n",
    "        \n",
    "        #Flip the chosen coin three times and assign the result to values\n",
    "        values = random.choices(S, k=3)\n",
    "        \n",
    "        #check if the desired condition is met\n",
    "        if (values[0] == 'H' and values[1] == 'T' and values[2] == 'T'):\n",
    "                event_count +=1\n",
    "    return event_count\n",
    "\n",
    "print(\"The probability of the outcome Heads, Tails, Tails = \", three_flip_two(num_sims)/num_sims)"
   ]
  },
  {
   "cell_type": "markdown",
   "metadata": {},
   "source": [
    "# Submit Your Solutions\n",
    "\n",
    "Confirm that you've successfully completed the assignment.\n",
    "\n",
    "Along with the Notebook, include a PDF of the notebook with your solutions.\n",
    "\n",
    "```add``` and ```commit``` the final version of your work, and ```push``` your PDF file to your GitHub repository.\n",
    "\n",
    "Submit the URL of your GitHub Repository as your assignment submission on Canvas."
   ]
  }
 ],
 "metadata": {
  "kernelspec": {
   "display_name": "Python 3 (ipykernel)",
   "language": "python",
   "name": "python3"
  },
  "language_info": {
   "codemirror_mode": {
    "name": "ipython",
    "version": 3
   },
   "file_extension": ".py",
   "mimetype": "text/x-python",
   "name": "python",
   "nbconvert_exporter": "python",
   "pygments_lexer": "ipython3",
   "version": "3.9.13"
  },
  "latex_envs": {
   "LaTeX_envs_menu_present": true,
   "autoclose": false,
   "autocomplete": true,
   "bibliofile": "biblio.bib",
   "cite_by": "apalike",
   "current_citInitial": 1,
   "eqLabelWithNumbers": true,
   "eqNumInitial": 1,
   "hotkeys": {
    "equation": "Ctrl-E",
    "itemize": "Ctrl-I"
   },
   "labels_anchors": false,
   "latex_user_defs": false,
   "report_style_numbering": false,
   "user_envs_cfg": false
  },
  "varInspector": {
   "cols": {
    "lenName": 16,
    "lenType": 16,
    "lenVar": 40
   },
   "kernels_config": {
    "python": {
     "delete_cmd_postfix": "",
     "delete_cmd_prefix": "del ",
     "library": "var_list.py",
     "varRefreshCmd": "print(var_dic_list())"
    },
    "r": {
     "delete_cmd_postfix": ") ",
     "delete_cmd_prefix": "rm(",
     "library": "var_list.r",
     "varRefreshCmd": "cat(var_dic_list()) "
    }
   },
   "types_to_exclude": [
    "module",
    "function",
    "builtin_function_or_method",
    "instance",
    "_Feature"
   ],
   "window_display": false
  }
 },
 "nbformat": 4,
 "nbformat_minor": 4
}
